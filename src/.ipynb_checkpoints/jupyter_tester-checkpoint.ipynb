{
 "cells": [
  {
   "cell_type": "code",
   "execution_count": 1,
   "id": "5108cced-17c2-47ff-9f13-55658219e561",
   "metadata": {},
   "outputs": [
    {
     "name": "stderr",
     "output_type": "stream",
     "text": [
      "\u001b[32m\u001b[1mPrecompiling\u001b[22m\u001b[39m BentTool\n",
      "\u001b[32m  ✓ \u001b[39mBentTool\n",
      "  1 dependency successfully precompiled in 11 seconds. 173 already precompiled.\n"
     ]
    }
   ],
   "source": [
    "using BentTool"
   ]
  },
  {
   "cell_type": "code",
   "execution_count": 2,
   "id": "11e7088a-d02c-46d6-b7fe-68320bfbb1b6",
   "metadata": {},
   "outputs": [],
   "source": [
    "import BentTool: RectangularColumn"
   ]
  },
  {
   "cell_type": "code",
   "execution_count": 3,
   "id": "32e2caa0-8bea-40ea-9920-fbbf92abbcbe",
   "metadata": {},
   "outputs": [
    {
     "data": {
      "text/plain": [
       "RectangularColumn\n",
       "  width: 72.0 inch\n",
       "  length: 96.0 inch\n",
       "  height: 20.0 ft"
      ]
     },
     "execution_count": 3,
     "metadata": {},
     "output_type": "execute_result"
    }
   ],
   "source": [
    "r = RectangularColumn(72, 96, 20)"
   ]
  },
  {
   "cell_type": "code",
   "execution_count": 4,
   "id": "008d6d77-e728-42d8-84ab-cb99b3b7e975",
   "metadata": {},
   "outputs": [
    {
     "data": {
      "text/plain": [
       "2-element Vector{RectangularColumn}:\n",
       " RectangularColumn(72.0 inch, 96.0 inch, 20.0 ft)\n",
       " RectangularColumn(72.0 inch, 96.0 inch, 20.0 ft)"
      ]
     },
     "execution_count": 4,
     "metadata": {},
     "output_type": "execute_result"
    }
   ],
   "source": [
    "[r, r]"
   ]
  },
  {
   "cell_type": "code",
   "execution_count": null,
   "id": "d08a9b1c-5919-4c13-84c7-364512c88266",
   "metadata": {},
   "outputs": [],
   "source": []
  }
 ],
 "metadata": {
  "kernelspec": {
   "display_name": "Julia 1.10.4",
   "language": "julia",
   "name": "julia-1.10"
  },
  "language_info": {
   "file_extension": ".jl",
   "mimetype": "application/julia",
   "name": "julia",
   "version": "1.10.4"
  }
 },
 "nbformat": 4,
 "nbformat_minor": 5
}
