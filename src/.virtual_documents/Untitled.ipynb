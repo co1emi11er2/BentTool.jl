using BentTool


import BentTool: RectangularColumn


r = RectangularColumn(72, 96, 20)


[r, r]



